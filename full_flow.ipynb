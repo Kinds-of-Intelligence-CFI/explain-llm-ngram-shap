{
  "cells": [
    {
      "cell_type": "markdown",
      "id": "6239aed8-1b71-45be-ad8c-e584ae369412",
      "metadata": {
        "id": "6239aed8-1b71-45be-ad8c-e584ae369412"
      },
      "source": [
        "[![Open In Colab](https://colab.research.google.com/assets/colab-badge.svg)](https://colab.research.google.com/github/Kinds-of-Intelligence-CFI/explain-llm-ngram-shap/blob/main/full_flow.ipynb)"
      ]
    },
    {
      "cell_type": "code",
      "source": [
        "!git clone https://github.com/Kinds-of-Intelligence-CFI/explain-llm-ngram-shap.git"
      ],
      "metadata": {
        "id": "r8LyosHI6NDF",
        "outputId": "a1d2a064-dc20-4702-d138-8b5bc95d0e4e",
        "colab": {
          "base_uri": "https://localhost:8080/"
        }
      },
      "id": "r8LyosHI6NDF",
      "execution_count": 17,
      "outputs": [
        {
          "output_type": "stream",
          "name": "stdout",
          "text": [
            "Cloning into 'explain-llm-ngram-shap'...\n",
            "remote: Enumerating objects: 12, done.\u001b[K\n",
            "remote: Counting objects:   8% (1/12)\u001b[K\rremote: Counting objects:  16% (2/12)\u001b[K\rremote: Counting objects:  25% (3/12)\u001b[K\rremote: Counting objects:  33% (4/12)\u001b[K\rremote: Counting objects:  41% (5/12)\u001b[K\rremote: Counting objects:  50% (6/12)\u001b[K\rremote: Counting objects:  58% (7/12)\u001b[K\rremote: Counting objects:  66% (8/12)\u001b[K\rremote: Counting objects:  75% (9/12)\u001b[K\rremote: Counting objects:  83% (10/12)\u001b[K\rremote: Counting objects:  91% (11/12)\u001b[K\rremote: Counting objects: 100% (12/12)\u001b[K\rremote: Counting objects: 100% (12/12), done.\u001b[K\n",
            "remote: Compressing objects:   9% (1/11)\u001b[K\rremote: Compressing objects:  18% (2/11)\u001b[K\rremote: Compressing objects:  27% (3/11)\u001b[K\rremote: Compressing objects:  36% (4/11)\u001b[K\rremote: Compressing objects:  45% (5/11)\u001b[K\rremote: Compressing objects:  54% (6/11)\u001b[K\rremote: Compressing objects:  63% (7/11)\u001b[K\rremote: Compressing objects:  72% (8/11)\u001b[K\rremote: Compressing objects:  81% (9/11)\u001b[K\rremote: Compressing objects:  90% (10/11)\u001b[K\rremote: Compressing objects: 100% (11/11)\u001b[K\rremote: Compressing objects: 100% (11/11), done.\u001b[K\n",
            "remote: Total 12 (delta 0), reused 8 (delta 0), pack-reused 0\u001b[K\n",
            "Receiving objects:   8% (1/12)\rReceiving objects:  16% (2/12)\rReceiving objects:  25% (3/12)\rReceiving objects:  33% (4/12)\rReceiving objects:  41% (5/12)\rReceiving objects:  50% (6/12)\rReceiving objects:  58% (7/12)\rReceiving objects:  66% (8/12)\rReceiving objects:  75% (9/12)\rReceiving objects:  83% (10/12)\rReceiving objects:  91% (11/12)\rReceiving objects: 100% (12/12)\rReceiving objects: 100% (12/12), done.\n",
            "/content/explain-llm-ngram-shap/explain-llm-ngram-shap\n",
            "config.yaml  full_flow.ipynb  LICENSE  main.py\tREADME.md  requirements.txt  src\n"
          ]
        }
      ]
    },
    {
      "cell_type": "code",
      "source": [
        "%cd /content/explain-llm-ngram-shap"
      ],
      "metadata": {
        "id": "MqaSZcbL6XbD",
        "outputId": "337df1ff-ad28-475e-931c-5d3a1a382ef7",
        "colab": {
          "base_uri": "https://localhost:8080/"
        }
      },
      "id": "MqaSZcbL6XbD",
      "execution_count": 31,
      "outputs": [
        {
          "output_type": "stream",
          "name": "stdout",
          "text": [
            "/content/explain-llm-ngram-shap\n",
            "config.yaml  full_flow.ipynb  ignore  LICENSE  main.py\tREADME.md  requirements.txt  src\n"
          ]
        }
      ]
    },
    {
      "cell_type": "code",
      "source": [
        "from src.utils.all_imports import *"
      ],
      "metadata": {
        "id": "5VmSk0EZ9X4U"
      },
      "id": "5VmSk0EZ9X4U",
      "execution_count": 32,
      "outputs": []
    }
  ],
  "metadata": {
    "kernelspec": {
      "display_name": "Python 3 (ipykernel)",
      "language": "python",
      "name": "python3"
    },
    "language_info": {
      "codemirror_mode": {
        "name": "ipython",
        "version": 3
      },
      "file_extension": ".py",
      "mimetype": "text/x-python",
      "name": "python",
      "nbconvert_exporter": "python",
      "pygments_lexer": "ipython3",
      "version": "3.11.7"
    },
    "colab": {
      "provenance": []
    }
  },
  "nbformat": 4,
  "nbformat_minor": 5
}